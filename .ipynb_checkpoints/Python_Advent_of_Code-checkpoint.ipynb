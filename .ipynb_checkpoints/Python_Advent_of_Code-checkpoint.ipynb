{
 "cells": [
  {
   "cell_type": "markdown",
   "metadata": {},
   "source": [
    "## Day 1"
   ]
  },
  {
   "cell_type": "code",
   "execution_count": 41,
   "metadata": {},
   "outputs": [],
   "source": [
    "# Couple of imports\n",
    "import time\n",
    "import re"
   ]
  },
  {
   "cell_type": "markdown",
   "metadata": {},
   "source": [
    "You notice that the device repeats the same frequency change list over and over. To calibrate the device, you need to find the first frequency it reaches twice."
   ]
  },
  {
   "cell_type": "code",
   "execution_count": 8,
   "metadata": {},
   "outputs": [],
   "source": [
    "with open('input1.txt', 'r') as f:\n",
    "    lines = f.readlines()\n",
    "data = list(map(int,lines))"
   ]
  },
  {
   "cell_type": "markdown",
   "metadata": {},
   "source": [
    "**Part1**: Find the sum of all frequencies"
   ]
  },
  {
   "cell_type": "code",
   "execution_count": 13,
   "metadata": {},
   "outputs": [
    {
     "data": {
      "text/plain": [
       "493"
      ]
     },
     "execution_count": 13,
     "metadata": {},
     "output_type": "execute_result"
    }
   ],
   "source": [
    "sum(data)"
   ]
  },
  {
   "cell_type": "markdown",
   "metadata": {},
   "source": [
    "**Part2**:  In this example, the first frequency reached twice is 2. Note that your device might need to repeat its list of frequency changes many times before a duplicate frequency is found, and that duplicates might be found while in the middle of processing the list.\n",
    "\n",
    "Here are other examples:\n",
    "\n",
    "+1, -1 first reaches 0 twice. +3, +3, +4, -2, -4 first reaches 10 twice. -6, +3, +8, +5, -6 first reaches 5 twice. +7, +7, -2, -7, -4 first reaches 14 twice. What is the first frequency your device reaches twice?"
   ]
  },
  {
   "cell_type": "code",
   "execution_count": 15,
   "metadata": {},
   "outputs": [
    {
     "name": "stdout",
     "output_type": "stream",
     "text": [
      "413\n"
     ]
    }
   ],
   "source": [
    "# Normal code\n",
    "def func():\n",
    "    o = []\n",
    "    s = 0\n",
    "    for _ in range(1000000):\n",
    "        for freq in data:\n",
    "            s += freq\n",
    "            if s in o:\n",
    "                print(s)\n",
    "                return\n",
    "            o.append(s)\n",
    "            \n",
    "t0 = time.time()\n",
    "func()\n",
    "t1 = time.time()\n",
    "total = t1-t0\n",
    "print(\"That took %s seconds to run.\" % total)"
   ]
  },
  {
   "cell_type": "code",
   "execution_count": 37,
   "metadata": {},
   "outputs": [
    {
     "name": "stdout",
     "output_type": "stream",
     "text": [
      "413\n",
      "That took 7.446577072143555 seconds to run.\n"
     ]
    }
   ],
   "source": [
    "#Numpy code\n",
    "def func_np():\n",
    "    o = np.array([],dtype = float)\n",
    "    s = 0\n",
    "    freq_found = 0\n",
    "    while freq_found == 0:\n",
    "        for freq in data:\n",
    "            s += freq\n",
    "            if s in o:\n",
    "                print(s)\n",
    "                return\n",
    "            o = np.append(o,s)\n",
    "            \n",
    "t0 = time.time()\n",
    "func_np()\n",
    "t1 = time.time()\n",
    "total = t1-t0\n",
    "print(\"That took %s seconds to run.\" % total)\n",
    "\n"
   ]
  },
  {
   "cell_type": "code",
   "execution_count": 31,
   "metadata": {},
   "outputs": [
    {
     "name": "stdout",
     "output_type": "stream",
     "text": [
      "413.0\n",
      "That took 0.03947901725769043 seconds to run.\n"
     ]
    }
   ],
   "source": [
    "#Dict code\n",
    "def func_dict():\n",
    "    seen_freq = {}\n",
    "    run_sum = 0.0\n",
    "    freq_found = 0\n",
    "    while freq_found == 0:\n",
    "        for freq in data:\n",
    "            run_sum += freq\n",
    "            if run_sum in seen_freq.keys():\n",
    "                print(run_sum)\n",
    "                return\n",
    "            seen_freq[run_sum] = freq\n",
    "            \n",
    "t0 = time.time()\n",
    "func_dict()\n",
    "t1 = time.time()\n",
    "total = t1-t0\n",
    "print(\"That took %s seconds to run.\" % total)"
   ]
  },
  {
   "cell_type": "code",
   "execution_count": 30,
   "metadata": {},
   "outputs": [],
   "source": [
    "a = np.ones(10)"
   ]
  },
  {
   "cell_type": "code",
   "execution_count": 10,
   "metadata": {},
   "outputs": [
    {
     "name": "stdout",
     "output_type": "stream",
     "text": [
      "Object `keys` not found.\n"
     ]
    }
   ],
   "source": [
    "o = dict()\n"
   ]
  },
  {
   "cell_type": "code",
   "execution_count": 32,
   "metadata": {},
   "outputs": [
    {
     "data": {
      "text/plain": [
       "True"
      ]
     },
     "execution_count": 32,
     "metadata": {},
     "output_type": "execute_result"
    }
   ],
   "source": [
    "1 in a"
   ]
  },
  {
   "cell_type": "code",
   "execution_count": 35,
   "metadata": {},
   "outputs": [],
   "source": [
    "?np.array"
   ]
  },
  {
   "cell_type": "markdown",
   "metadata": {},
   "source": [
    "## Day2"
   ]
  },
  {
   "cell_type": "markdown",
   "metadata": {},
   "source": [
    "**Part1** \n",
    "To make sure you didn't miss any, you scan the likely candidate boxes again, counting the number that have an ID containing exactly two of any letter and then separately counting those with exactly three of any letter. You can multiply those two counts together to get a rudimentary checksum and compare it to what your device predicts.\n",
    "\n",
    "For example, if you see the following box IDs:\n",
    "\n",
    "abcdef contains no letters that appear exactly two or three times.\n",
    "bababc contains two a and three b, so it counts for both.\n",
    "abbcde contains two b, but no letter appears exactly three times.\n",
    "abcccd contains three c, but no letter appears exactly two times.\n",
    "aabcdd contains two a and two d, but it only counts once.\n",
    "abcdee contains two e.\n",
    "ababab contains three a and three b, but it only counts once.\n",
    "Of these box IDs, four of them contain a letter which appears exactly twice, and three of them contain a letter which appears exactly three times. Multiplying these together produces a checksum of 4 * 3 = 12.\n",
    "\n",
    "What is the checksum for your list of box IDs?"
   ]
  },
  {
   "cell_type": "code",
   "execution_count": 34,
   "metadata": {},
   "outputs": [],
   "source": [
    "with open('input2.txt', 'r') as f:\n",
    "    lines2 = f.readlines()"
   ]
  },
  {
   "cell_type": "code",
   "execution_count": 42,
   "metadata": {},
   "outputs": [],
   "source": [
    "lines2 = [line.rstrip() for line in lines2]"
   ]
  },
  {
   "cell_type": "code",
   "execution_count": 76,
   "metadata": {},
   "outputs": [
    {
     "name": "stdout",
     "output_type": "stream",
     "text": [
      "(247, ' and ', 39)\n",
      "('Product is ', 9633)\n"
     ]
    }
   ],
   "source": [
    "no_2 = 0\n",
    "no_3 = 0\n",
    "for line in lines2:\n",
    "    unique_chars = set(line)\n",
    "    two_done = False\n",
    "    three_done = False\n",
    "    for char in unique_chars:\n",
    "        count = line.count(char)\n",
    "        if count == 3 and three_done == False:\n",
    "            no_3 += 1\n",
    "            three_done = True\n",
    "        if count == 2 and two_done == False:\n",
    "            no_2 += 1\n",
    "            two_done = True\n",
    "    \n",
    "    \n",
    "print((no_2,\" and \", no_3))\n",
    "print((\"Product is \", no_2*no_3)) \n",
    "        \n",
    "    \n",
    "    "
   ]
  },
  {
   "cell_type": "markdown",
   "metadata": {},
   "source": [
    "**Part2**\n",
    "Confident that your list of box IDs is complete, you're ready to find the boxes full of prototype fabric.\n",
    "\n",
    "The boxes will have IDs which differ by exactly one character at the same position in both strings. For example, given the following box IDs:\n",
    "\n",
    "abcde\n",
    "fghij\n",
    "klmno\n",
    "pqrst\n",
    "fguij\n",
    "axcye\n",
    "wvxyz\n",
    "The IDs abcde and axcye are close, but they differ by two characters (the second and fourth). However, the IDs fghij and fguij differ by exactly one character, the third (h and u). Those must be the correct boxes.\n",
    "\n",
    "What letters are common between the two correct box IDs? (In the example above, this is found by removing the differing character from either ID, producing fgij.)"
   ]
  },
  {
   "cell_type": "code",
   "execution_count": 99,
   "metadata": {},
   "outputs": [
    {
     "name": "stdout",
     "output_type": "stream",
     "text": [
      "found it\n"
     ]
    },
    {
     "data": {
      "text/plain": [
       "'lujnogabetpmsydyfcovzixaw'"
      ]
     },
     "execution_count": 99,
     "metadata": {},
     "output_type": "execute_result"
    }
   ],
   "source": [
    "def func():\n",
    "    for line in lines2:\n",
    "        for pair in lines2:\n",
    "            position_diff = 0\n",
    "            for index,char in enumerate(line):\n",
    "                position_diff += int(line[index] != pair[index])\n",
    "                if position_diff >1:\n",
    "                    break\n",
    "            if position_diff == 1:\n",
    "                print(\"found it\")\n",
    "                string_ret = \"\"\n",
    "                for index,char in enumerate(line):\n",
    "                    if line[index] == pair[index]:\n",
    "                        string_ret += char\n",
    "                return(string_ret)\n",
    "\n",
    "func()\n",
    "        "
   ]
  },
  {
   "cell_type": "code",
   "execution_count": 96,
   "metadata": {},
   "outputs": [
    {
     "data": {
      "text/plain": [
       "4916209315790086481"
      ]
     },
     "execution_count": 96,
     "metadata": {},
     "output_type": "execute_result"
    }
   ],
   "source": []
  },
  {
   "cell_type": "code",
   "execution_count": 78,
   "metadata": {},
   "outputs": [
    {
     "data": {
      "text/plain": [
       "1"
      ]
     },
     "execution_count": 78,
     "metadata": {},
     "output_type": "execute_result"
    }
   ],
   "source": [
    "int(True)"
   ]
  },
  {
   "cell_type": "code",
   "execution_count": 82,
   "metadata": {},
   "outputs": [
    {
     "name": "stdout",
     "output_type": "stream",
     "text": [
      "Object `intersection` not found.\n"
     ]
    }
   ],
   "source": [
    "?intersection"
   ]
  },
  {
   "cell_type": "code",
   "execution_count": 83,
   "metadata": {},
   "outputs": [
    {
     "ename": "AttributeError",
     "evalue": "'str' object has no attribute 'intersection'",
     "output_type": "error",
     "traceback": [
      "\u001b[0;31m---------------------------------------------------------------------------\u001b[0m",
      "\u001b[0;31mAttributeError\u001b[0m                            Traceback (most recent call last)",
      "\u001b[0;32m<ipython-input-83-99872c0a1afa>\u001b[0m in \u001b[0;36m<module>\u001b[0;34m()\u001b[0m\n\u001b[0;32m----> 1\u001b[0;31m \u001b[0;34m\"an\"\u001b[0m\u001b[0;34m.\u001b[0m\u001b[0mintersection\u001b[0m\u001b[0;34m(\u001b[0m\u001b[0;34m\"a\"\u001b[0m\u001b[0;34m)\u001b[0m\u001b[0;34m\u001b[0m\u001b[0m\n\u001b[0m",
      "\u001b[0;31mAttributeError\u001b[0m: 'str' object has no attribute 'intersection'"
     ]
    }
   ],
   "source": []
  },
  {
   "cell_type": "code",
   "execution_count": null,
   "metadata": {},
   "outputs": [],
   "source": []
  }
 ],
 "metadata": {
  "kernelspec": {
   "display_name": "Python 3",
   "language": "python",
   "name": "python3"
  },
  "language_info": {
   "codemirror_mode": {
    "name": "ipython",
    "version": 3
   },
   "file_extension": ".py",
   "mimetype": "text/x-python",
   "name": "python",
   "nbconvert_exporter": "python",
   "pygments_lexer": "ipython3",
   "version": "3.7.0"
  }
 },
 "nbformat": 4,
 "nbformat_minor": 2
}
