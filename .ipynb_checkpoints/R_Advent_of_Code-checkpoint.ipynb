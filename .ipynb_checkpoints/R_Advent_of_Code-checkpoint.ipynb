{
 "cells": [
  {
   "cell_type": "markdown",
   "metadata": {},
   "source": [
    "## Day 1"
   ]
  },
  {
   "cell_type": "code",
   "execution_count": 42,
   "metadata": {},
   "outputs": [],
   "source": [
    "data = read.table(\"input1.txt\")\n",
    "data <- as.vector(data$V1)"
   ]
  },
  {
   "cell_type": "code",
   "execution_count": 43,
   "metadata": {},
   "outputs": [
    {
     "name": "stdout",
     "output_type": "stream",
     "text": [
      " int [1:988] 13 9 8 1 -15 10 16 17 8 8 ...\n"
     ]
    }
   ],
   "source": [
    "str(data)"
   ]
  },
  {
   "cell_type": "markdown",
   "metadata": {},
   "source": [
    "**Part 1**: Starting with a frequency of zero, what is the resulting frequency after all of the changes in frequency have been applied?"
   ]
  },
  {
   "cell_type": "code",
   "execution_count": 44,
   "metadata": {},
   "outputs": [
    {
     "data": {
      "text/html": [
       "493"
      ],
      "text/latex": [
       "493"
      ],
      "text/markdown": [
       "493"
      ],
      "text/plain": [
       "[1] 493"
      ]
     },
     "metadata": {},
     "output_type": "display_data"
    }
   ],
   "source": [
    "sum(data)"
   ]
  },
  {
   "cell_type": "markdown",
   "metadata": {},
   "source": [
    "**Part2**: In this example, the first frequency reached twice is 2. Note that your device might need to repeat its list of frequency changes many times before a duplicate frequency is found, and that duplicates might be found while in the middle of processing the list.\n",
    "\n",
    "Here are other examples:\n",
    "\n",
    "+1, -1 first reaches 0 twice. +3, +3, +4, -2, -4 first reaches 10 twice. -6, +3, +8, +5, -6 first reaches 5 twice. +7, +7, -2, -7, -4 first reaches 14 twice. What is the first frequency your device reaches twice?"
   ]
  },
  {
   "cell_type": "code",
   "execution_count": 45,
   "metadata": {},
   "outputs": [],
   "source": [
    "a <- numeric()"
   ]
  },
  {
   "cell_type": "code",
   "execution_count": 46,
   "metadata": {},
   "outputs": [],
   "source": [
    "part2 <- function(){\n",
    "    freq_vector <- numeric()\n",
    "    freq_found <- 0\n",
    "    run_sum <- 0\n",
    "    while (freq_found == 0){\n",
    "        for (freq in data){\n",
    "            run_sum <- run_sum + freq\n",
    "            if (run_sum %in% freq_vector){\n",
    "                return(run_sum)\n",
    "                freq_found <- freq_found + 1\n",
    "                break}\n",
    "            else {freq_vector <- c(freq_vector, run_sum)}\n",
    "        } \n",
    "    }\n",
    "}\n",
    "\n",
    "start_time <- Sys.time()\n",
    "part2()\n",
    "end_time <- Sys.time()\n",
    "\n",
    "end_time - start_time\n"
   ]
  },
  {
   "cell_type": "markdown",
   "metadata": {},
   "source": [
    "**Vectorised function**"
   ]
  },
  {
   "cell_type": "code",
   "execution_count": 47,
   "metadata": {},
   "outputs": [
    {
     "data": {
      "text/html": [
       "413"
      ],
      "text/latex": [
       "413"
      ],
      "text/markdown": [
       "413"
      ],
      "text/plain": [
       "[1] 413"
      ]
     },
     "metadata": {},
     "output_type": "display_data"
    },
    {
     "data": {
      "text/plain": [
       "Time difference of 0.250844 secs"
      ]
     },
     "metadata": {},
     "output_type": "display_data"
    }
   ],
   "source": [
    "vec_part2 <- function(){\n",
    "    freq_vector <- numeric()\n",
    "    freq_found <- 0\n",
    "    run_sum <- 0\n",
    "    while (freq_found == 0){\n",
    "        offset <- ifelse(length(freq_vector)==0,0,freq_vector[length(freq_vector)])\n",
    "        cum_sum <- cumsum(data) + offset\n",
    "        freq_vector <- c(freq_vector,cum_sum)\n",
    "        if (anyDuplicated(freq_vector)){\n",
    "            return(freq_vector[duplicated(freq_vector)][1])\n",
    "            freq_found <- freq_found + 1\n",
    "        } \n",
    "    }\n",
    "}\n",
    "\n",
    "start_time <- Sys.time()\n",
    "vec_part2()\n",
    "end_time <- Sys.time()\n",
    "\n",
    "end_time - start_time"
   ]
  },
  {
   "cell_type": "markdown",
   "metadata": {},
   "source": [
    "## Day 2"
   ]
  },
  {
   "cell_type": "code",
   "execution_count": 60,
   "metadata": {},
   "outputs": [],
   "source": [
    "lines_2 = read.table(\"input2.txt\")\n",
    "lines_2 <- as.vector(lines_2$V1)"
   ]
  },
  {
   "cell_type": "markdown",
   "metadata": {},
   "source": [
    "** Part 1**\n",
    "For example, if you see the following box IDs:\n",
    "\n",
    "- abcdef contains no letters that appear exactly two or three times.\n",
    "- bababc contains two a and three b, so it counts for both.\n",
    "- abbcde contains two b, but no letter appears exactly three times.\n",
    "- abcccd contains three c, but no letter appears exactly two times.\n",
    "- aabcdd contains two a and two d, but it only counts once.\n",
    "- abcdee contains two e.\n",
    "- ababab contains three a and three b, but it only counts once.\n",
    "\n",
    "Of these box IDs, four of them contain a letter which appears exactly twice, and three of them contain a letter which appears exactly three times. Multiplying these together produces a checksum of 4 * 3 = 12.\n",
    "\n",
    "What is the checksum for your list of box IDs?"
   ]
  },
  {
   "cell_type": "code",
   "execution_count": 37,
   "metadata": {},
   "outputs": [
    {
     "name": "stdout",
     "output_type": "stream",
     "text": [
      "[1] \"247\" \"and\" \"39\" \n",
      "[1] \"Product is\" \"9633\"      \n"
     ]
    }
   ],
   "source": [
    "no_2 <- 0\n",
    "no_3 <- 0\n",
    "letters <- letters\n",
    "for (line in lines_2){\n",
    "    line_vector = strsplit(line, \"\")[[1]]\n",
    "    char_count = as.vector(table(line_vector))\n",
    "    no_3 <- no_3 + (3 %in% char_count)\n",
    "    no_2 <- no_2 + (2 %in% char_count)\n",
    "}\n",
    "\n",
    "print(c(no_2,\"and\", no_3))\n",
    "print(c(\"Product is\", no_2*no_3))"
   ]
  },
  {
   "cell_type": "markdown",
   "metadata": {},
   "source": [
    "**Part2** Confident that your list of box IDs is complete, you're ready to find the boxes full of prototype fabric.\n",
    "\n",
    "The boxes will have IDs which differ by exactly one character at the same position in both strings. For example, given the following box IDs:\n",
    "\n",
    "abcde fghij klmno pqrst fguij axcye wvxyz The IDs abcde and axcye are close, but they differ by two characters (the second and fourth). However, the IDs fghij and fguij differ by exactly one character, the third (h and u). Those must be the correct boxes.\n",
    "\n",
    "What letters are common between the two correct box IDs? (In the example above, this is found by removing the differing character from either ID, producing fgij.)"
   ]
  },
  {
   "cell_type": "code",
   "execution_count": null,
   "metadata": {},
   "outputs": [],
   "source": []
  },
  {
   "cell_type": "code",
   "execution_count": 106,
   "metadata": {},
   "outputs": [
    {
     "data": {
      "text/html": [
       "'lujnogabetpmsydyfcovzixaw'"
      ],
      "text/latex": [
       "'lujnogabetpmsydyfcovzixaw'"
      ],
      "text/markdown": [
       "'lujnogabetpmsydyfcovzixaw'"
      ],
      "text/plain": [
       "[1] \"lujnogabetpmsydyfcovzixaw\""
      ]
     },
     "metadata": {},
     "output_type": "display_data"
    }
   ],
   "source": [
    "d2_p2_vec <- function(data){\n",
    "    s1 <- 1:(length(data)-1)\n",
    "   for (i in seq_along(s1)){\n",
    "    s2 <- i+1:length(data)\n",
    "     for (j in seq_along(s2)){\n",
    "         a <- strsplit(data[i], \"\")[[1]]\n",
    "         b <- strsplit(data[j], \"\")[[1]]\n",
    "         diff_bool <- a == b\n",
    "         sum_diff <- sum(!diff_bool)\n",
    "         if (sum_diff == 1){\n",
    "             string_ret = paste(a[diff_bool],collapse = \"\")\n",
    "             return(string_ret)\n",
    "         }        \n",
    "     }   \n",
    "  } \n",
    "}\n",
    "\n",
    "d2_p2_vec(lines_2)\n",
    "\n"
   ]
  },
  {
   "cell_type": "code",
   "execution_count": null,
   "metadata": {},
   "outputs": [],
   "source": []
  },
  {
   "cell_type": "code",
   "execution_count": 17,
   "metadata": {},
   "outputs": [
    {
     "name": "stdout",
     "output_type": "stream",
     "text": [
      " chr [1:26] \"a\" \"b\" \"c\" \"d\" \"e\" \"f\" \"g\" \"h\" \"i\" \"j\" \"k\" \"l\" \"m\" \"n\" \"o\" \"p\" ...\n"
     ]
    }
   ],
   "source": [
    "str(letters)"
   ]
  },
  {
   "cell_type": "code",
   "execution_count": 19,
   "metadata": {},
   "outputs": [
    {
     "data": {
      "text/html": [],
      "text/latex": [],
      "text/markdown": [],
      "text/plain": [
       "character(0)"
      ]
     },
     "metadata": {},
     "output_type": "display_data"
    }
   ],
   "source": [
    "intersect(letters,\"abc\")"
   ]
  },
  {
   "cell_type": "code",
   "execution_count": 20,
   "metadata": {},
   "outputs": [
    {
     "ename": "ERROR",
     "evalue": "Error in parse(text = x, srcfile = src): <text>:1:24: unexpected symbol\n1: for (i in \"abc\"){print i\n                           ^\n",
     "output_type": "error",
     "traceback": [
      "Error in parse(text = x, srcfile = src): <text>:1:24: unexpected symbol\n1: for (i in \"abc\"){print i\n                           ^\nTraceback:\n"
     ]
    }
   ],
   "source": [
    "for (i in \"abc\"){print i}"
   ]
  },
  {
   "cell_type": "code",
   "execution_count": 23,
   "metadata": {},
   "outputs": [],
   "source": [
    "numberstring_split <- strsplit(\"abca\", \"\")[[1]]"
   ]
  },
  {
   "cell_type": "code",
   "execution_count": 25,
   "metadata": {},
   "outputs": [
    {
     "data": {
      "text/html": [
       "<ol class=list-inline>\n",
       "\t<li>'a'</li>\n",
       "\t<li>'b'</li>\n",
       "\t<li>'c'</li>\n",
       "</ol>\n"
      ],
      "text/latex": [
       "\\begin{enumerate*}\n",
       "\\item 'a'\n",
       "\\item 'b'\n",
       "\\item 'c'\n",
       "\\end{enumerate*}\n"
      ],
      "text/markdown": [
       "1. 'a'\n",
       "2. 'b'\n",
       "3. 'c'\n",
       "\n",
       "\n"
      ],
      "text/plain": [
       "[1] \"a\" \"b\" \"c\""
      ]
     },
     "metadata": {},
     "output_type": "display_data"
    }
   ],
   "source": [
    "unique(numberstring_split)"
   ]
  },
  {
   "cell_type": "code",
   "execution_count": 32,
   "metadata": {},
   "outputs": [
    {
     "data": {
      "text/html": [
       "<ol class=list-inline>\n",
       "\t<li>2</li>\n",
       "\t<li>1</li>\n",
       "\t<li>1</li>\n",
       "</ol>\n"
      ],
      "text/latex": [
       "\\begin{enumerate*}\n",
       "\\item 2\n",
       "\\item 1\n",
       "\\item 1\n",
       "\\end{enumerate*}\n"
      ],
      "text/markdown": [
       "1. 2\n",
       "2. 1\n",
       "3. 1\n",
       "\n",
       "\n"
      ],
      "text/plain": [
       "[1] 2 1 1"
      ]
     },
     "metadata": {},
     "output_type": "display_data"
    }
   ],
   "source": [
    "as.vector(table(numberstring_split))"
   ]
  },
  {
   "cell_type": "code",
   "execution_count": 56,
   "metadata": {},
   "outputs": [
    {
     "name": "stdout",
     "output_type": "stream",
     "text": [
      "a f "
     ]
    }
   ],
   "source": [
    "a = c(\"a\",\"b\",\"c\",\"f\")\n",
    "b = c(\"a\",\"g\",\"h\",\"f\")\n",
    "c = a==b\n",
    "cat(a[c],\"\")\n"
   ]
  },
  {
   "cell_type": "code",
   "execution_count": 105,
   "metadata": {},
   "outputs": [],
   "source": [
    "?paste0"
   ]
  },
  {
   "cell_type": "code",
   "execution_count": null,
   "metadata": {},
   "outputs": [],
   "source": []
  }
 ],
 "metadata": {
  "kernelspec": {
   "display_name": "R",
   "language": "R",
   "name": "ir"
  },
  "language_info": {
   "codemirror_mode": "r",
   "file_extension": ".r",
   "mimetype": "text/x-r-source",
   "name": "R",
   "pygments_lexer": "r",
   "version": "3.5.1"
  }
 },
 "nbformat": 4,
 "nbformat_minor": 2
}
