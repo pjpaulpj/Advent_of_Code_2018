{
 "cells": [
  {
   "cell_type": "markdown",
   "metadata": {},
   "source": [
    "## Day 1"
   ]
  },
  {
   "cell_type": "code",
   "execution_count": 65,
   "metadata": {},
   "outputs": [
    {
     "name": "stderr",
     "output_type": "stream",
     "text": [
      "WARNING: using BenchmarkTools.gctime in module Main conflicts with an existing identifier.\n"
     ]
    }
   ],
   "source": [
    "using Pkg\n",
    "using BenchmarkTools\n",
    "using DataFrames"
   ]
  },
  {
   "cell_type": "code",
   "execution_count": 12,
   "metadata": {},
   "outputs": [
    {
     "data": {
      "text/plain": [
       "988-element Array{Float64,1}:\n",
       "     13.0\n",
       "      9.0\n",
       "      8.0\n",
       "      1.0\n",
       "    -15.0\n",
       "     10.0\n",
       "     16.0\n",
       "     17.0\n",
       "      8.0\n",
       "      8.0\n",
       "     17.0\n",
       "      6.0\n",
       "     17.0\n",
       "      ⋮  \n",
       "      3.0\n",
       "    -16.0\n",
       "     26.0\n",
       "     20.0\n",
       "   -221.0\n",
       "     -6.0\n",
       "     30.0\n",
       "    -51.0\n",
       "    470.0\n",
       " -67792.0\n",
       "      3.0\n",
       " 135555.0"
      ]
     },
     "execution_count": 12,
     "metadata": {},
     "output_type": "execute_result"
    }
   ],
   "source": [
    "file = open(\"input1.txt\")\n",
    "lines = readlines(file)\n",
    "lines = parse.(Float64,lines)"
   ]
  },
  {
   "cell_type": "markdown",
   "metadata": {},
   "source": [
    "**Part 1**: Starting with a frequency of zero, what is the resulting frequency after all of the changes in frequency have been applied?"
   ]
  },
  {
   "cell_type": "code",
   "execution_count": 3,
   "metadata": {},
   "outputs": [
    {
     "data": {
      "text/plain": [
       "493.0"
      ]
     },
     "execution_count": 3,
     "metadata": {},
     "output_type": "execute_result"
    }
   ],
   "source": [
    "sum(lines)"
   ]
  },
  {
   "cell_type": "markdown",
   "metadata": {},
   "source": [
    "**Part2**: In this example, the first frequency reached twice is 2. Note that your device might need to repeat its list of frequency changes many times before a duplicate frequency is found, and that duplicates might be found while in the middle of processing the list.\n",
    "\n",
    "Here are other examples:\n",
    "\n",
    "+1, -1 first reaches 0 twice.\n",
    "+3, +3, +4, -2, -4 first reaches 10 twice.\n",
    "-6, +3, +8, +5, -6 first reaches 5 twice.\n",
    "+7, +7, -2, -7, -4 first reaches 14 twice.\n",
    "What is the first frequency your device reaches twice?"
   ]
  },
  {
   "cell_type": "code",
   "execution_count": 91,
   "metadata": {},
   "outputs": [
    {
     "name": "stdout",
     "output_type": "stream",
     "text": [
      "  4.647 ms (33 allocations: 3.00 MiB)\n"
     ]
    },
    {
     "data": {
      "text/plain": [
       "413.0"
      ]
     },
     "execution_count": 91,
     "metadata": {},
     "output_type": "execute_result"
    }
   ],
   "source": [
    "function part2(data::Array{Float64})\n",
    "    freq_set = Set{Float64}()\n",
    "    freq_found = 0\n",
    "    run_sum = 0.0\n",
    "    while freq_found == 0\n",
    "        for freq in data\n",
    "            run_sum += freq\n",
    "            if run_sum in freq_set\n",
    "                return run_sum\n",
    "                freq_found += 1\n",
    "                break\n",
    "            else\n",
    "                union!(freq_set, run_sum)\n",
    "            end\n",
    "        end\n",
    "    end\n",
    "end\n",
    "\n",
    "@btime part2(lines)"
   ]
  },
  {
   "cell_type": "code",
   "execution_count": 90,
   "metadata": {},
   "outputs": [
    {
     "name": "stdout",
     "output_type": "stream",
     "text": [
      "  4.930 ms (37 allocations: 5.67 MiB)\n"
     ]
    },
    {
     "data": {
      "text/plain": [
       "413.0"
      ]
     },
     "execution_count": 90,
     "metadata": {},
     "output_type": "execute_result"
    }
   ],
   "source": [
    "function part2_dict(data::Array{Float64})\n",
    "    freq_dict = Dict{Float64,Float64}()\n",
    "    freq_found = 0\n",
    "    run_sum = 0.0\n",
    "    while freq_found == 0\n",
    "        for freq in data\n",
    "            run_sum += freq\n",
    "            if haskey(freq_dict, run_sum)\n",
    "                return run_sum\n",
    "                freq_found += 1\n",
    "                break\n",
    "            else\n",
    "                freq_dict[run_sum] = freq\n",
    "            end\n",
    "        end\n",
    "    end\n",
    "end\n",
    "\n",
    "@btime part2_dict(lines)"
   ]
  },
  {
   "cell_type": "markdown",
   "metadata": {},
   "source": [
    "## Day2"
   ]
  },
  {
   "cell_type": "code",
   "execution_count": 96,
   "metadata": {},
   "outputs": [
    {
     "data": {
      "text/plain": [
       "250-element Array{String,1}:\n",
       " \"lutrogkbetprmshdyfiqvzixaw\"\n",
       " \"lujnmgkbetprmshdyicqvzivaw\"\n",
       " \"lujnogkbetprmshdyfkqvtpxaw\"\n",
       " \"lujnqgkbetpmmshdywcqvzixaw\"\n",
       " \"lujnogtaetprmshdyffqvzixaw\"\n",
       " \"lujnogkbetprmuldyfcqvqixaw\"\n",
       " \"luunogkbetprlshdyfcqrzixaw\"\n",
       " \"lujnogkketprmshdyhcqvtixaw\"\n",
       " \"lyjnogzbetprmsbdyfcqvzixaw\"\n",
       " \"eujnogkbetprmshdyfrqvzixmw\"\n",
       " \"lujnogcbetprmshdyfvqvziqaw\"\n",
       " \"lujnogkbempruahdyfcqvzixaw\"\n",
       " \"lujlogkbetprmlhdyfyqvzixaw\"\n",
       " ⋮                           \n",
       " \"lujnogkbeturmshgymcqvzixaw\"\n",
       " \"lujiogkbbrprmshdyfcqvzixaw\"\n",
       " \"yujnogkbutprmshdyfcqvzixab\"\n",
       " \"lujvofubetprmshdyfcqvzixaw\"\n",
       " \"lujwogkbrtprmshdyfcqvnixaw\"\n",
       " \"lusnogkbetprmsydyfcqvzikaw\"\n",
       " \"lujnolkbewprmshdyfyqvzixaw\"\n",
       " \"lujnogkbetprvshdyfcivzikaw\"\n",
       " \"lujnogxbetprmszdyfzqvzixaw\"\n",
       " \"lujnogkvetprmxhdydcqvzixaw\"\n",
       " \"lujnogkbetpimsrdwfcqvzixaw\"\n",
       " \"lujnomboetprmshdyfcqvzixaw\""
      ]
     },
     "execution_count": 96,
     "metadata": {},
     "output_type": "execute_result"
    }
   ],
   "source": [
    "file_2 = open(\"input2.txt\")\n",
    "lines_2 = readlines(file_2)"
   ]
  },
  {
   "cell_type": "code",
   "execution_count": 201,
   "metadata": {},
   "outputs": [
    {
     "name": "stdout",
     "output_type": "stream",
     "text": [
      "247 and 39\n",
      "Product is 9633\n"
     ]
    }
   ],
   "source": [
    "no_2 = 0\n",
    "no_3 = 0\n",
    "for line in lines_2\n",
    "    for l in Set(line)\n",
    "        if count(j->(j==l),line) == 3\n",
    "            no_3 += 1\n",
    "            break\n",
    "        end\n",
    "    end\n",
    "    for l in Set(line)\n",
    "        if count(j->(j==l),line) == 2\n",
    "            no_2 += 1\n",
    "            break\n",
    "        end\n",
    "    end\n",
    "end\n",
    "println(no_2,\" and \", no_3)\n",
    "println(\"Product is \", no_2*no_3)"
   ]
  },
  {
   "cell_type": "code",
   "execution_count": 104,
   "metadata": {},
   "outputs": [
    {
     "data": {
      "text/plain": [
       "615"
      ]
     },
     "execution_count": 104,
     "metadata": {},
     "output_type": "execute_result"
    }
   ],
   "source": [
    "no_2"
   ]
  },
  {
   "cell_type": "markdown",
   "metadata": {},
   "source": [
    "**Part2**\n",
    "Confident that your list of box IDs is complete, you're ready to find the boxes full of prototype fabric.\n",
    "\n",
    "The boxes will have IDs which differ by exactly one character at the same position in both strings. For example, given the following box IDs:\n",
    "\n",
    "abcde\n",
    "fghij\n",
    "klmno\n",
    "pqrst\n",
    "fguij\n",
    "axcye\n",
    "wvxyz\n",
    "The IDs abcde and axcye are close, but they differ by two characters (the second and fourth). However, the IDs fghij and fguij differ by exactly one character, the third (h and u). Those must be the correct boxes.\n",
    "\n",
    "What letters are common between the two correct box IDs? (In the example above, this is found by removing the differing character from either ID, producing fgij.)"
   ]
  },
  {
   "cell_type": "code",
   "execution_count": 211,
   "metadata": {},
   "outputs": [
    {
     "data": {
      "text/plain": [
       "d2_p2 (generic function with 3 methods)"
      ]
     },
     "execution_count": 211,
     "metadata": {},
     "output_type": "execute_result"
    }
   ],
   "source": [
    "function d2_p2(data)\n",
    "    for line in data\n",
    "        for j in data\n",
    "            position_diff = 0\n",
    "            for i in 1:length(line)\n",
    "                position_diff += Int(line[i]!= j[i])\n",
    "            end\n",
    "            if position_diff == 1\n",
    "                string_ret = []\n",
    "                print(\"found it\")\n",
    "                for i in 1:length(line)\n",
    "                    if line[i] == j[i]\n",
    "                       push!(string_ret,line[i])\n",
    "                    end\n",
    "                end\n",
    "                return(join(string_ret))\n",
    "            end\n",
    "        end\n",
    "    end\n",
    "end"
   ]
  },
  {
   "cell_type": "code",
   "execution_count": 215,
   "metadata": {},
   "outputs": [
    {
     "name": "stdout",
     "output_type": "stream",
     "text": [
      "found it"
     ]
    },
    {
     "data": {
      "text/plain": [
       "\"lujnogabetpmsydyfcovzixaw\""
      ]
     },
     "execution_count": 215,
     "metadata": {},
     "output_type": "execute_result"
    }
   ],
   "source": [
    "d2_p2(lines_2)"
   ]
  },
  {
   "cell_type": "code",
   "execution_count": null,
   "metadata": {},
   "outputs": [],
   "source": []
  },
  {
   "cell_type": "code",
   "execution_count": null,
   "metadata": {},
   "outputs": [],
   "source": []
  },
  {
   "cell_type": "code",
   "execution_count": null,
   "metadata": {},
   "outputs": [],
   "source": []
  }
 ],
 "metadata": {
  "kernelspec": {
   "display_name": "Julia 1.0.0",
   "language": "julia",
   "name": "julia-1.0"
  },
  "language_info": {
   "file_extension": ".jl",
   "mimetype": "application/julia",
   "name": "julia",
   "version": "1.0.0"
  }
 },
 "nbformat": 4,
 "nbformat_minor": 2
}
