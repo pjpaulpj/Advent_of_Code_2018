{
 "cells": [
  {
   "cell_type": "markdown",
   "metadata": {},
   "source": [
    "## Day 1"
   ]
  },
  {
   "cell_type": "code",
   "execution_count": 2,
   "metadata": {},
   "outputs": [],
   "source": [
    "using Pkg\n",
    "using BenchmarkTools"
   ]
  },
  {
   "cell_type": "code",
   "execution_count": 4,
   "metadata": {},
   "outputs": [
    {
     "data": {
      "text/plain": [
       "988-element Array{Float64,1}:\n",
       "     13.0\n",
       "      9.0\n",
       "      8.0\n",
       "      1.0\n",
       "    -15.0\n",
       "     10.0\n",
       "     16.0\n",
       "     17.0\n",
       "      8.0\n",
       "      8.0\n",
       "     17.0\n",
       "      6.0\n",
       "     17.0\n",
       "      ⋮  \n",
       "      3.0\n",
       "    -16.0\n",
       "     26.0\n",
       "     20.0\n",
       "   -221.0\n",
       "     -6.0\n",
       "     30.0\n",
       "    -51.0\n",
       "    470.0\n",
       " -67792.0\n",
       "      3.0\n",
       " 135555.0"
      ]
     },
     "execution_count": 4,
     "metadata": {},
     "output_type": "execute_result"
    }
   ],
   "source": [
    "file = open(\"input1.txt\")\n",
    "lines = readlines(file)\n",
    "lines = parse.(Float64,lines)"
   ]
  },
  {
   "cell_type": "markdown",
   "metadata": {},
   "source": [
    "**Part 1**: Starting with a frequency of zero, what is the resulting frequency after all of the changes in frequency have been applied?"
   ]
  },
  {
   "cell_type": "code",
   "execution_count": 3,
   "metadata": {},
   "outputs": [
    {
     "data": {
      "text/plain": [
       "493.0"
      ]
     },
     "execution_count": 3,
     "metadata": {},
     "output_type": "execute_result"
    }
   ],
   "source": [
    "sum(lines)"
   ]
  },
  {
   "cell_type": "markdown",
   "metadata": {},
   "source": [
    "**Part2**: In this example, the first frequency reached twice is 2. Note that your device might need to repeat its list of frequency changes many times before a duplicate frequency is found, and that duplicates might be found while in the middle of processing the list.\n",
    "\n",
    "Here are other examples:\n",
    "\n",
    "+1, -1 first reaches 0 twice.\n",
    "+3, +3, +4, -2, -4 first reaches 10 twice.\n",
    "-6, +3, +8, +5, -6 first reaches 5 twice.\n",
    "+7, +7, -2, -7, -4 first reaches 14 twice.\n",
    "What is the first frequency your device reaches twice?"
   ]
  },
  {
   "cell_type": "code",
   "execution_count": 12,
   "metadata": {},
   "outputs": [
    {
     "name": "stdout",
     "output_type": "stream",
     "text": [
      "  4.552 ms (33 allocations: 3.00 MiB)\n"
     ]
    },
    {
     "data": {
      "text/plain": [
       "413.0"
      ]
     },
     "execution_count": 12,
     "metadata": {},
     "output_type": "execute_result"
    }
   ],
   "source": [
    "function part2(data::Array{Int,1})::Int\n",
    "    freq_set = Set{Int}()\n",
    "    freq_found = 0\n",
    "    run_sum = 0.0\n",
    "    while freq_found == 0\n",
    "        for freq in data\n",
    "            run_sum += freq\n",
    "            if in(run_sum, freq_set)\n",
    "                return run_sum\n",
    "                freq_found += 1\n",
    "                break\n",
    "            else\n",
    "                push!(freq_set, run_sum)\n",
    "            end\n",
    "        end\n",
    "    end\n",
    "end\n",
    "\n",
    "@btime part2(lines)"
   ]
  },
  {
   "cell_type": "code",
   "execution_count": 6,
   "metadata": {},
   "outputs": [
    {
     "name": "stdout",
     "output_type": "stream",
     "text": [
      "  4.901 ms (37 allocations: 5.67 MiB)\n"
     ]
    },
    {
     "data": {
      "text/plain": [
       "413.0"
      ]
     },
     "execution_count": 6,
     "metadata": {},
     "output_type": "execute_result"
    }
   ],
   "source": [
    "function part2_dict(data::Array{Float64})\n",
    "    freq_dict = Dict{Float64,Float64}()\n",
    "    freq_found = 0\n",
    "    run_sum = 0.0\n",
    "    while freq_found == 0\n",
    "        for freq in data\n",
    "            run_sum += freq\n",
    "            if haskey(freq_dict, run_sum)\n",
    "                return run_sum\n",
    "                freq_found += 1\n",
    "                break\n",
    "            else\n",
    "                freq_dict[run_sum] = freq\n",
    "            end\n",
    "        end\n",
    "    end\n",
    "end\n",
    "\n",
    "@btime part2_dict(lines)"
   ]
  },
  {
   "cell_type": "code",
   "execution_count": 10,
   "metadata": {},
   "outputs": [
    {
     "name": "stdout",
     "output_type": "stream",
     "text": [
      "  5.714 ms (36 allocations: 3.34 MiB)\n"
     ]
    },
    {
     "data": {
      "text/plain": [
       "413.0"
      ]
     },
     "execution_count": 10,
     "metadata": {},
     "output_type": "execute_result"
    }
   ],
   "source": [
    "function part2_dict(data::Array{Int,1})::Int\n",
    "    freq_dict = Dict{Int,Bool}()\n",
    "    freq_found = 0\n",
    "    run_sum = 0.0\n",
    "    while freq_found == 0\n",
    "        for freq in data\n",
    "            run_sum += freq\n",
    "            if haskey(freq_dict, run_sum)\n",
    "                return run_sum\n",
    "                freq_found += 1\n",
    "                break\n",
    "            else\n",
    "                freq_dict[run_sum] = true\n",
    "            end\n",
    "        end\n",
    "    end\n",
    "end\n",
    "\n",
    "@btime part2_dict(lines)"
   ]
  },
  {
   "cell_type": "markdown",
   "metadata": {},
   "source": [
    "## Day2"
   ]
  },
  {
   "cell_type": "code",
   "execution_count": 44,
   "metadata": {},
   "outputs": [
    {
     "data": {
      "text/plain": [
       "250-element Array{String,1}:\n",
       " \"lutrogkbetprmshdyfiqvzixaw\"\n",
       " \"lujnmgkbetprmshdyicqvzivaw\"\n",
       " \"lujnogkbetprmshdyfkqvtpxaw\"\n",
       " \"lujnqgkbetpmmshdywcqvzixaw\"\n",
       " \"lujnogtaetprmshdyffqvzixaw\"\n",
       " \"lujnogkbetprmuldyfcqvqixaw\"\n",
       " \"luunogkbetprlshdyfcqrzixaw\"\n",
       " \"lujnogkketprmshdyhcqvtixaw\"\n",
       " \"lyjnogzbetprmsbdyfcqvzixaw\"\n",
       " \"eujnogkbetprmshdyfrqvzixmw\"\n",
       " \"lujnogcbetprmshdyfvqvziqaw\"\n",
       " \"lujnogkbempruahdyfcqvzixaw\"\n",
       " \"lujlogkbetprmlhdyfyqvzixaw\"\n",
       " ⋮                           \n",
       " \"lujnogkbeturmshgymcqvzixaw\"\n",
       " \"lujiogkbbrprmshdyfcqvzixaw\"\n",
       " \"yujnogkbutprmshdyfcqvzixab\"\n",
       " \"lujvofubetprmshdyfcqvzixaw\"\n",
       " \"lujwogkbrtprmshdyfcqvnixaw\"\n",
       " \"lusnogkbetprmsydyfcqvzikaw\"\n",
       " \"lujnolkbewprmshdyfyqvzixaw\"\n",
       " \"lujnogkbetprvshdyfcivzikaw\"\n",
       " \"lujnogxbetprmszdyfzqvzixaw\"\n",
       " \"lujnogkvetprmxhdydcqvzixaw\"\n",
       " \"lujnogkbetpimsrdwfcqvzixaw\"\n",
       " \"lujnomboetprmshdyfcqvzixaw\""
      ]
     },
     "execution_count": 44,
     "metadata": {},
     "output_type": "execute_result"
    }
   ],
   "source": [
    "file_2 = open(\"input2.txt\")\n",
    "lines_2 = readlines(file_2)"
   ]
  },
  {
   "cell_type": "code",
   "execution_count": 201,
   "metadata": {},
   "outputs": [
    {
     "name": "stdout",
     "output_type": "stream",
     "text": [
      "247 and 39\n",
      "Product is 9633\n"
     ]
    }
   ],
   "source": [
    "no_2 = 0\n",
    "no_3 = 0\n",
    "for line in lines_2\n",
    "    for l in Set(line)\n",
    "        if count(j->(j==l),line) == 3\n",
    "            no_3 += 1\n",
    "            break\n",
    "        end\n",
    "    end\n",
    "    for l in Set(line)\n",
    "        if count(j->(j==l),line) == 2\n",
    "            no_2 += 1\n",
    "            break\n",
    "        end\n",
    "    end\n",
    "end\n",
    "println(no_2,\" and \", no_3)\n",
    "println(\"Product is \", no_2*no_3)"
   ]
  },
  {
   "cell_type": "code",
   "execution_count": null,
   "metadata": {},
   "outputs": [],
   "source": []
  },
  {
   "cell_type": "markdown",
   "metadata": {},
   "source": [
    "**Part2**\n",
    "Confident that your list of box IDs is complete, you're ready to find the boxes full of prototype fabric.\n",
    "\n",
    "The boxes will have IDs which differ by exactly one character at the same position in both strings. For example, given the following box IDs:\n",
    "\n",
    "abcde\n",
    "fghij\n",
    "klmno\n",
    "pqrst\n",
    "fguij\n",
    "axcye\n",
    "wvxyz\n",
    "The IDs abcde and axcye are close, but they differ by two characters (the second and fourth). However, the IDs fghij and fguij differ by exactly one character, the third (h and u). Those must be the correct boxes.\n",
    "\n",
    "What letters are common between the two correct box IDs? (In the example above, this is found by removing the differing character from either ID, producing fgij.)"
   ]
  },
  {
   "cell_type": "code",
   "execution_count": 122,
   "metadata": {},
   "outputs": [
    {
     "name": "stdout",
     "output_type": "stream",
     "text": [
      "  358.082 μs (12 allocations: 1.00 KiB)\n"
     ]
    },
    {
     "data": {
      "text/plain": [
       "\"lujnogabetpmsydyfcovzixaw\""
      ]
     },
     "execution_count": 122,
     "metadata": {},
     "output_type": "execute_result"
    }
   ],
   "source": [
    "function d2_p2(data::Array{String,1})\n",
    "    for line in data\n",
    "        for j in data\n",
    "            position_diff = 0\n",
    "            for i in 1:length(line)\n",
    "                position_diff += Int(line[i]!= j[i])\n",
    "                if position_diff > 1\n",
    "                    break\n",
    "                end\n",
    "            end\n",
    "            if position_diff == 1\n",
    "                string_ret = []\n",
    "                for i in 1:length(line)\n",
    "                    if line[i] == j[i]\n",
    "                       push!(string_ret,line[i])\n",
    "                    end\n",
    "                end\n",
    "                return(join(string_ret))\n",
    "            end\n",
    "        end\n",
    "    end\n",
    "end\n",
    "\n",
    "@btime d2_p2(lines_2)"
   ]
  },
  {
   "cell_type": "code",
   "execution_count": 135,
   "metadata": {},
   "outputs": [
    {
     "name": "stdout",
     "output_type": "stream",
     "text": [
      "  8.549 ms (74834 allocations: 39.33 MiB)\n"
     ]
    },
    {
     "data": {
      "text/plain": [
       "\"lujnogabetpmsydyfcovzixaw\""
      ]
     },
     "execution_count": 135,
     "metadata": {},
     "output_type": "execute_result"
    }
   ],
   "source": [
    "function d2_p2_vec(data::Array{String,1})\n",
    "    for line in data\n",
    "        for j in data\n",
    "            diff_bool = [i for i in line] .== [i for i in j]\n",
    "            sum_diff = sum(.!diff_bool)\n",
    "            if sum_diff == 1\n",
    "                string_ret = line[collect(1:length(line))[diff_bool]]\n",
    "                return(string_ret)\n",
    "            end\n",
    "        end\n",
    "    end\n",
    "end\n",
    "\n",
    "@btime d2_p2_vec(lines_2)"
   ]
  },
  {
   "cell_type": "code",
   "execution_count": 133,
   "metadata": {},
   "outputs": [
    {
     "name": "stdout",
     "output_type": "stream",
     "text": [
      "search: \u001b[0m\u001b[1mr\u001b[22m\u001b[0m\u001b[1ms\u001b[22m\u001b[0m\u001b[1mp\u001b[22m\u001b[0m\u001b[1ml\u001b[22m\u001b[0m\u001b[1mi\u001b[22m\u001b[0m\u001b[1mt\u001b[22m\n",
      "\n"
     ]
    },
    {
     "data": {
      "text/latex": [
       "\\begin{verbatim}\n",
       "rsplit(s::AbstractString; limit::Integer=0, keepempty::Bool=false)\n",
       "rsplit(s::AbstractString, chars; limit::Integer=0, keepempty::Bool=true)\n",
       "\\end{verbatim}\n",
       "Similar to \\href{@ref}{\\texttt{split}}, but starting from the end of the string.\n",
       "\n",
       "\\section{Examples}\n",
       "\\begin{verbatim}\n",
       "julia> a = \"M.a.r.c.h\"\n",
       "\"M.a.r.c.h\"\n",
       "\n",
       "julia> rsplit(a,\".\")\n",
       "5-element Array{SubString{String},1}:\n",
       " \"M\"\n",
       " \"a\"\n",
       " \"r\"\n",
       " \"c\"\n",
       " \"h\"\n",
       "\n",
       "julia> rsplit(a,\".\";limit=1)\n",
       "1-element Array{SubString{String},1}:\n",
       " \"M.a.r.c.h\"\n",
       "\n",
       "julia> rsplit(a,\".\";limit=2)\n",
       "2-element Array{SubString{String},1}:\n",
       " \"M.a.r.c\"\n",
       " \"h\"\n",
       "\\end{verbatim}\n"
      ],
      "text/markdown": [
       "```\n",
       "rsplit(s::AbstractString; limit::Integer=0, keepempty::Bool=false)\n",
       "rsplit(s::AbstractString, chars; limit::Integer=0, keepempty::Bool=true)\n",
       "```\n",
       "\n",
       "Similar to [`split`](@ref), but starting from the end of the string.\n",
       "\n",
       "# Examples\n",
       "\n",
       "```jldoctest\n",
       "julia> a = \"M.a.r.c.h\"\n",
       "\"M.a.r.c.h\"\n",
       "\n",
       "julia> rsplit(a,\".\")\n",
       "5-element Array{SubString{String},1}:\n",
       " \"M\"\n",
       " \"a\"\n",
       " \"r\"\n",
       " \"c\"\n",
       " \"h\"\n",
       "\n",
       "julia> rsplit(a,\".\";limit=1)\n",
       "1-element Array{SubString{String},1}:\n",
       " \"M.a.r.c.h\"\n",
       "\n",
       "julia> rsplit(a,\".\";limit=2)\n",
       "2-element Array{SubString{String},1}:\n",
       " \"M.a.r.c\"\n",
       " \"h\"\n",
       "```\n"
      ],
      "text/plain": [
       "\u001b[36m  rsplit(s::AbstractString; limit::Integer=0, keepempty::Bool=false)\u001b[39m\n",
       "\u001b[36m  rsplit(s::AbstractString, chars; limit::Integer=0, keepempty::Bool=true)\u001b[39m\n",
       "\n",
       "  Similar to \u001b[36msplit\u001b[39m, but starting from the end of the string.\n",
       "\n",
       "\u001b[1m  Examples\u001b[22m\n",
       "\u001b[1m  ≡≡≡≡≡≡≡≡≡≡\u001b[22m\n",
       "\n",
       "\u001b[36m  julia> a = \"M.a.r.c.h\"\u001b[39m\n",
       "\u001b[36m  \"M.a.r.c.h\"\u001b[39m\n",
       "\u001b[36m  \u001b[39m\n",
       "\u001b[36m  julia> rsplit(a,\".\")\u001b[39m\n",
       "\u001b[36m  5-element Array{SubString{String},1}:\u001b[39m\n",
       "\u001b[36m   \"M\"\u001b[39m\n",
       "\u001b[36m   \"a\"\u001b[39m\n",
       "\u001b[36m   \"r\"\u001b[39m\n",
       "\u001b[36m   \"c\"\u001b[39m\n",
       "\u001b[36m   \"h\"\u001b[39m\n",
       "\u001b[36m  \u001b[39m\n",
       "\u001b[36m  julia> rsplit(a,\".\";limit=1)\u001b[39m\n",
       "\u001b[36m  1-element Array{SubString{String},1}:\u001b[39m\n",
       "\u001b[36m   \"M.a.r.c.h\"\u001b[39m\n",
       "\u001b[36m  \u001b[39m\n",
       "\u001b[36m  julia> rsplit(a,\".\";limit=2)\u001b[39m\n",
       "\u001b[36m  2-element Array{SubString{String},1}:\u001b[39m\n",
       "\u001b[36m   \"M.a.r.c\"\u001b[39m\n",
       "\u001b[36m   \"h\"\u001b[39m"
      ]
     },
     "execution_count": 133,
     "metadata": {},
     "output_type": "execute_result"
    }
   ],
   "source": [
    "?rsplit"
   ]
  },
  {
   "cell_type": "code",
   "execution_count": 131,
   "metadata": {},
   "outputs": [
    {
     "data": {
      "text/plain": [
       "3-element Array{SubString{String},1}:\n",
       " \"a\"\n",
       " \"b\"\n",
       " \"c\""
      ]
     },
     "execution_count": 131,
     "metadata": {},
     "output_type": "execute_result"
    }
   ],
   "source": [
    "split(\"abc\",\"\")"
   ]
  },
  {
   "cell_type": "code",
   "execution_count": null,
   "metadata": {},
   "outputs": [],
   "source": []
  }
 ],
 "metadata": {
  "kernelspec": {
   "display_name": "Julia 1.0.0",
   "language": "julia",
   "name": "julia-1.0"
  },
  "language_info": {
   "file_extension": ".jl",
   "mimetype": "application/julia",
   "name": "julia",
   "version": "1.0.0"
  }
 },
 "nbformat": 4,
 "nbformat_minor": 2
}
